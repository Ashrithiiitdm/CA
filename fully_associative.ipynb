{
 "cells": [
  {
   "cell_type": "code",
   "execution_count": 2,
   "metadata": {},
   "outputs": [],
   "source": [
    "import random\n",
    "\n",
    "class FullyAssociativeCache:\n",
    "    def __init__(self, cache_size, block_size, memory_size):\n",
    "        self.cache_size = cache_size\n",
    "        self.block_size = block_size\n",
    "        self.memory_size = memory_size\n",
    "        self.no_cache_block = cache_size // block_size\n",
    "        self.no_memory_blocks = memory_size // block_size\n",
    "        self.cache = []\n",
    "        self.lru_order = []\n",
    "        self.cache_hits = 0\n",
    "        self.cache_misses = 0\n",
    "\n",
    "    def access_memory(self, block_addr):\n",
    "        \"\"\"Accessing Memory with passed address using this function\"\"\"\n",
    "        if block_addr in self.cache:\n",
    "            self.cache_hits += 1\n",
    "            self.lru_order.remove(block_addr)\n",
    "            self.lru_order.append(block_addr)\n",
    "        else:\n",
    "            \"\"\"Cache Miss\"\"\"\n",
    "            self.cache_misses += 1\n",
    "            if len(self.cache) < self.no_cache_block:\n",
    "                # Add the block in cache\n",
    "                self.cache.append(block_addr)\n",
    "            else:\n",
    "                # Remove the least recently used block from cache\n",
    "                lru_block = self.lru_order.pop(0)\n",
    "                self.cache.remove(lru_block)\n",
    "                self.cache.append(block_addr)\n",
    "\n",
    "            self.lru_order.append(block_addr)\n",
    "\n",
    "    def reset_cache(self):\n",
    "        self.cache = []\n",
    "        self.lru_order = []\n",
    "        self.cache_hits = 0\n",
    "        self.cache_misses = 0\n",
    "\n",
    "    def simulate_spatial(self, mean, std_dev):\n",
    "        self.reset_cache()\n",
    "        for _ in range(self.no_memory_blocks):\n",
    "            addr = int(random.gauss(mean, std_dev)) % self.no_memory_blocks\n",
    "            self.access_memory(addr)\n",
    "        print(f\"Spatial Access (Normal Distribution): Cache Hits = {self.cache_hits}, Cache Misses = {self.cache_misses}\")\n",
    "\n",
    "    def simulate_temporal(self, working_set_size, mean, std_dev):\n",
    "        self.reset_cache()\n",
    "        for _ in range(10):\n",
    "            for _ in range(working_set_size):\n",
    "                addr = int(random.gauss(mean, std_dev)) % self.no_memory_blocks\n",
    "                self.access_memory(addr)\n",
    "        print(f\"Temporal Access (Normal Distribution): Cache Hits = {self.cache_hits}, Cache Misses = {self.cache_misses}\")"
   ]
  },
  {
   "cell_type": "code",
   "execution_count": 3,
   "metadata": {},
   "outputs": [],
   "source": [
    "word_size = 4  # 32 bits = 4 bytes\n",
    "block_size_words = 16\n",
    "block_size_bytes = block_size_words * word_size  # 64 bytes per block\n",
    "memory_size_words = 64 * 1024  # 64K words\n",
    "memory_size_bytes = memory_size_words * word_size  # 256 KB\n",
    "cache_size_words = 2 * 1024  # 2K words\n",
    "cache_size_bytes = cache_size_words * word_size  # 8 KB"
   ]
  },
  {
   "cell_type": "code",
   "execution_count": 6,
   "metadata": {},
   "outputs": [
    {
     "name": "stdout",
     "output_type": "stream",
     "text": [
      "Spatial Access (Normal Distribution): Cache Hits = 1093, Cache Misses = 3003\n",
      "Temporal Access (Normal Distribution): Cache Hits = 111, Cache Misses = 389\n"
     ]
    }
   ],
   "source": [
    "# Example usage\n",
    "cache = FullyAssociativeCache(cache_size=cache_size_bytes, block_size=block_size_bytes, memory_size=memory_size_bytes)\n",
    "cache.simulate_spatial(mean=512, std_dev=128)\n",
    "cache.simulate_temporal(working_set_size=50, mean=512, std_dev=128)"
   ]
  }
 ],
 "metadata": {
  "kernelspec": {
   "display_name": "Python 3",
   "language": "python",
   "name": "python3"
  },
  "language_info": {
   "codemirror_mode": {
    "name": "ipython",
    "version": 3
   },
   "file_extension": ".py",
   "mimetype": "text/x-python",
   "name": "python",
   "nbconvert_exporter": "python",
   "pygments_lexer": "ipython3",
   "version": "3.10.11"
  }
 },
 "nbformat": 4,
 "nbformat_minor": 2
}
